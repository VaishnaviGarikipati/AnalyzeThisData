{
 "cells": [
  {
   "cell_type": "code",
   "execution_count": 1,
   "metadata": {},
   "outputs": [],
   "source": [
    "import numpy as np\n",
    "from datascience import *\n",
    "import matplotlib\n",
    "%matplotlib inline\n",
    "import matplotlib.pyplot as plt\n",
    "plt.style.use('fivethirtyeight')\n",
    "import warnings\n",
    "warnings.simplefilter('ignore', FutureWarning)"
   ]
  },
  {
   "cell_type": "markdown",
   "metadata": {},
   "source": [
    "**1 The Bootstrap and The Normal Curve**"
   ]
  },
  {
   "cell_type": "code",
   "execution_count": 2,
   "metadata": {},
   "outputs": [
    {
     "data": {
      "text/html": [
       "<table border=\"1\" class=\"dataframe\">\n",
       "    <thead>\n",
       "        <tr>\n",
       "            <th>Restaurant Name</th> <th>Zip Code</th> <th>Inspection Date</th> <th>Score</th> <th>Address</th>\n",
       "        </tr>\n",
       "    </thead>\n",
       "    <tbody>\n",
       "        <tr>\n",
       "            <td>6M Grocery     </td> <td>78652   </td> <td>01/17/2014     </td> <td>90   </td> <td>805 W FM 1626 RD\n",
       "AUSTIN, TX 78652\n",
       "     </td>\n",
       "        </tr>\n",
       "        <tr>\n",
       "            <td>6M Grocery     </td> <td>78652   </td> <td>04/27/2015     </td> <td>93   </td> <td>805 W FM 1626 RD\n",
       "AUSTIN, TX 78652\n",
       "     </td>\n",
       "        </tr>\n",
       "        <tr>\n",
       "            <td>6M Grocery     </td> <td>78652   </td> <td>05/02/2016     </td> <td>88   </td> <td>805 W FM 1626 RD\n",
       "AUSTIN, TX 78652\n",
       "     </td>\n",
       "        </tr>\n",
       "        <tr>\n",
       "            <td>6M Grocery     </td> <td>78652   </td> <td>07/25/2014     </td> <td>100  </td> <td>805 W FM 1626 RD\n",
       "AUSTIN, TX 78652\n",
       "     </td>\n",
       "        </tr>\n",
       "        <tr>\n",
       "            <td>6M Grocery     </td> <td>78652   </td> <td>10/21/2015     </td> <td>87   </td> <td>805 W FM 1626 RD\n",
       "AUSTIN, TX 78652\n",
       "     </td>\n",
       "        </tr>\n",
       "        <tr>\n",
       "            <td>6M Grocery     </td> <td>78652   </td> <td>12/15/2014     </td> <td>93   </td> <td>805 W FM 1626 RD\n",
       "AUSTIN, TX 78652\n",
       "     </td>\n",
       "        </tr>\n",
       "        <tr>\n",
       "            <td>7 Eleven #36575</td> <td>78660   </td> <td>01/25/2016     </td> <td>92   </td> <td>15829 N IH 35 SVRD NB\n",
       "AUSTIN, TX 78660\n",
       "</td>\n",
       "        </tr>\n",
       "        <tr>\n",
       "            <td>7 Eleven #36575</td> <td>78660   </td> <td>03/05/2015     </td> <td>86   </td> <td>15829 N IH 35 SVRD NB\n",
       "AUSTIN, TX 78660\n",
       "</td>\n",
       "        </tr>\n",
       "        <tr>\n",
       "            <td>7 Eleven #36575</td> <td>78660   </td> <td>03/14/2014     </td> <td>93   </td> <td>15829 N IH 35 SVRD NB\n",
       "AUSTIN, TX 78660\n",
       "</td>\n",
       "        </tr>\n",
       "        <tr>\n",
       "            <td>7 Eleven #36575</td> <td>78660   </td> <td>07/27/2015     </td> <td>97   </td> <td>15829 N IH 35 SVRD NB\n",
       "AUSTIN, TX 78660\n",
       "</td>\n",
       "        </tr>\n",
       "    </tbody>\n",
       "</table>\n",
       "<p>... (24357 rows omitted)</p>"
      ],
      "text/plain": [
       "Restaurant Name | Zip Code | Inspection Date | Score | Address\n",
       "6M Grocery      | 78652    | 01/17/2014      | 90    | 805 W FM 1626 RD\n",
       "AUSTIN, TX 78652\n",
       "6M Grocery      | 78652    | 04/27/2015      | 93    | 805 W FM 1626 RD\n",
       "AUSTIN, TX 78652\n",
       "6M Grocery      | 78652    | 05/02/2016      | 88    | 805 W FM 1626 RD\n",
       "AUSTIN, TX 78652\n",
       "6M Grocery      | 78652    | 07/25/2014      | 100   | 805 W FM 1626 RD\n",
       "AUSTIN, TX 78652\n",
       "6M Grocery      | 78652    | 10/21/2015      | 87    | 805 W FM 1626 RD\n",
       "AUSTIN, TX 78652\n",
       "6M Grocery      | 78652    | 12/15/2014      | 93    | 805 W FM 1626 RD\n",
       "AUSTIN, TX 78652\n",
       "7 Eleven #36575 | 78660    | 01/25/2016      | 92    | 15829 N IH 35 SVRD NB\n",
       "AUSTIN, TX 78660\n",
       "7 Eleven #36575 | 78660    | 03/05/2015      | 86    | 15829 N IH 35 SVRD NB\n",
       "AUSTIN, TX 78660\n",
       "7 Eleven #36575 | 78660    | 03/14/2014      | 93    | 15829 N IH 35 SVRD NB\n",
       "AUSTIN, TX 78660\n",
       "7 Eleven #36575 | 78660    | 07/27/2015      | 97    | 15829 N IH 35 SVRD NB\n",
       "AUSTIN, TX 78660\n",
       "... (24357 rows omitted)"
      ]
     },
     "execution_count": 2,
     "metadata": {},
     "output_type": "execute_result"
    }
   ],
   "source": [
    "pop_restaurants = Table.read_table('restaurant_inspection_scores.csv').drop('Facility ID','Process Description')\n",
    "pop_restaurants"
   ]
  },
  {
   "cell_type": "code",
   "execution_count": 3,
   "metadata": {},
   "outputs": [
    {
     "data": {
      "image/png": "[encoded data removed]",
      "text/plain": [
       "<Figure size 432x288 with 1 Axes>"
      ]
     },
     "metadata": {},
     "output_type": "display_data"
    }
   ],
   "source": [
    "pop_restaurants.hist('Score')"
   ]
  },
  {
   "cell_type": "code",
   "execution_count": 4,
   "metadata": {},
   "outputs": [
    {
     "data": {
      "text/plain": [
       "91.40706693478886"
      ]
     },
     "execution_count": 4,
     "metadata": {},
     "output_type": "execute_result"
    }
   ],
   "source": [
    "pop_mean = np.mean(pop_restaurants.column('Score'))\n",
    "pop_mean"
   ]
  },
  {
   "cell_type": "code",
   "execution_count": 5,
   "metadata": {},
   "outputs": [
    {
     "data": {
      "text/html": [
       "<table border=\"1\" class=\"dataframe\">\n",
       "    <thead>\n",
       "        <tr>\n",
       "            <th>Restaurant Name</th> <th>Zip Code</th> <th>Inspection Date</th> <th>Score</th> <th>Address</th>\n",
       "        </tr>\n",
       "    </thead>\n",
       "    <tbody>\n",
       "        <tr>\n",
       "            <td>John B. Connally High School-Culinary Kitchen</td> <td>78753   </td> <td>03/06/2014     </td> <td>97   </td> <td>13212 N LAMAR BLVD\n",
       "AUSTIN, TX 78753\n",
       "(30.417194, -97.675876) </td>\n",
       "        </tr>\n",
       "        <tr>\n",
       "            <td>Taqueria Los Jaliscienses                    </td> <td>78745   </td> <td>07/27/2015     </td> <td>73   </td> <td>1815 W BEN WHITE BLVD EB\n",
       "AUSTIN, TX 78745\n",
       "(30.228946, -9 ...</td>\n",
       "        </tr>\n",
       "        <tr>\n",
       "            <td>Southside Flying Pizza                       </td> <td>78702   </td> <td>07/27/2016     </td> <td>80   </td> <td>2702 E CESAR CHAVEZ ST\n",
       "AUSTIN, TX 78702\n",
       "(30.253393, -97. ...</td>\n",
       "        </tr>\n",
       "        <tr>\n",
       "            <td>Little Country Diner                         </td> <td>78669   </td> <td>01/21/2015     </td> <td>94   </td> <td>22000 W SH 71\n",
       "SPICEWOOD, TX 78669\n",
       "(30.36612, -98.071449)    </td>\n",
       "        </tr>\n",
       "        <tr>\n",
       "            <td>Guerrero-Thompson Elementary School          </td> <td>78753   </td> <td>08/23/2016     </td> <td>95   </td> <td>102 E RUNDBERG LN\n",
       "AUSTIN, TX 78753\n",
       "(30.360804, -97.693239)  </td>\n",
       "        </tr>\n",
       "        <tr>\n",
       "            <td>Zed's Restaurant                             </td> <td>78753   </td> <td>01/15/2016     </td> <td>82   </td> <td>501 CANYON RIDGE DR\n",
       "AUSTIN, TX 78753\n",
       "(30.403095, -97.672006)</td>\n",
       "        </tr>\n",
       "        <tr>\n",
       "            <td>Family Dollar                                </td> <td>78723   </td> <td>08/11/2015     </td> <td>96   </td> <td>3851 AIRPORT BLVD\n",
       "AUSTIN, TX 78723\n",
       "(30.289563, -97.707176)  </td>\n",
       "        </tr>\n",
       "        <tr>\n",
       "            <td>Randall's #2485                              </td> <td>78745   </td> <td>04/17/2015     </td> <td>93   </td> <td>2025 W BEN WHITE BLVD EB\n",
       "AUSTIN, TX 78745\n",
       "(30.230214, -9 ...</td>\n",
       "        </tr>\n",
       "        <tr>\n",
       "            <td>La Michoacana Meat Market-Taqueria/bakery    </td> <td>78723   </td> <td>01/21/2015     </td> <td>89   </td> <td>5706 MANOR RD\n",
       "AUSTIN, TX 78723\n",
       "(30.304672, -97.681232)      </td>\n",
       "        </tr>\n",
       "        <tr>\n",
       "            <td>Bluebonnet Hill Golf                         </td> <td>78724   </td> <td>04/07/2016     </td> <td>85   </td> <td>9100 DECKER LN\n",
       "AUSTIN, TX 78724\n",
       "(30.317472, -97.61109)      </td>\n",
       "        </tr>\n",
       "    </tbody>\n",
       "</table>\n",
       "<p>... (90 rows omitted)</p>"
      ],
      "text/plain": [
       "Restaurant Name                               | Zip Code | Inspection Date | Score | Address\n",
       "John B. Connally High School-Culinary Kitchen | 78753    | 03/06/2014      | 97    | 13212 N LAMAR BLVD\n",
       "AUSTIN, TX 78753\n",
       "(30.417194, -97.675876)\n",
       "Taqueria Los Jaliscienses                     | 78745    | 07/27/2015      | 73    | 1815 W BEN WHITE BLVD EB\n",
       "AUSTIN, TX 78745\n",
       "(30.228946, -9 ...\n",
       "Southside Flying Pizza                        | 78702    | 07/27/2016      | 80    | 2702 E CESAR CHAVEZ ST\n",
       "AUSTIN, TX 78702\n",
       "(30.253393, -97. ...\n",
       "Little Country Diner                          | 78669    | 01/21/2015      | 94    | 22000 W SH 71\n",
       "SPICEWOOD, TX 78669\n",
       "(30.36612, -98.071449)\n",
       "Guerrero-Thompson Elementary School           | 78753    | 08/23/2016      | 95    | 102 E RUNDBERG LN\n",
       "AUSTIN, TX 78753\n",
       "(30.360804, -97.693239)\n",
       "Zed's Restaurant                              | 78753    | 01/15/2016      | 82    | 501 CANYON RIDGE DR\n",
       "AUSTIN, TX 78753\n",
       "(30.403095, -97.672006)\n",
       "Family Dollar                                 | 78723    | 08/11/2015      | 96    | 3851 AIRPORT BLVD\n",
       "AUSTIN, TX 78723\n",
       "(30.289563, -97.707176)\n",
       "Randall's #2485                               | 78745    | 04/17/2015      | 93    | 2025 W BEN WHITE BLVD EB\n",
       "AUSTIN, TX 78745\n",
       "(30.230214, -9 ...\n",
       "La Michoacana Meat Market-Taqueria/bakery     | 78723    | 01/21/2015      | 89    | 5706 MANOR RD\n",
       "AUSTIN, TX 78723\n",
       "(30.304672, -97.681232)\n",
       "Bluebonnet Hill Golf                          | 78724    | 04/07/2016      | 85    | 9100 DECKER LN\n",
       "AUSTIN, TX 78724\n",
       "(30.317472, -97.61109)\n",
       "... (90 rows omitted)"
      ]
     },
     "execution_count": 5,
     "metadata": {},
     "output_type": "execute_result"
    }
   ],
   "source": [
    "restaurant_sample = pop_restaurants.sample(100, with_replacement=False)\n",
    "restaurant_sample"
   ]
  },
  {
   "cell_type": "code",
   "execution_count": 6,
   "metadata": {},
   "outputs": [
    {
     "data": {
      "image/png": "[encoded data removed]",
      "text/plain": [
       "<Figure size 432x288 with 1 Axes>"
      ]
     },
     "metadata": {},
     "output_type": "display_data"
    }
   ],
   "source": [
    "restaurant_sample.hist('Score')"
   ]
  },
  {
   "cell_type": "code",
   "execution_count": 7,
   "metadata": {},
   "outputs": [
    {
     "data": {
      "text/plain": [
       "91.86"
      ]
     },
     "execution_count": 7,
     "metadata": {},
     "output_type": "execute_result"
    }
   ],
   "source": [
    "sample_mean = np.mean(restaurant_sample.column('Score'))\n",
    "sample_mean"
   ]
  },
  {
   "cell_type": "markdown",
   "metadata": {},
   "source": [
    "**1.1 Question 1**\n",
    "Complete the function one resampled mean below. It should take in an original table data, with a column Score,\n",
    "and return the mean score of one resampling from data."
   ]
  },
  {
   "cell_type": "code",
   "execution_count": 8,
   "metadata": {},
   "outputs": [
    {
     "data": {
      "text/plain": [
       "89.81"
      ]
     },
     "execution_count": 8,
     "metadata": {},
     "output_type": "execute_result"
    },
    {
     "data": {
      "image/png": "[encoded data removed]",
      "text/plain": [
       "<Figure size 432x288 with 1 Axes>"
      ]
     },
     "metadata": {},
     "output_type": "display_data"
    }
   ],
   "source": [
    "def one_resampled_mean(data):\n",
    "    resampled_data = pop_restaurants.sample(100, with_replacement=False)\n",
    "    mean = np.mean(resampled_data.column('Score'))\n",
    "    resampled_data.hist('Score')\n",
    "    return mean\n",
    "this_mean = one_resampled_mean('Score') \n",
    "this_mean"
   ]
  },
  {
   "cell_type": "markdown",
   "metadata": {},
   "source": [
    "**1.2 Question 2**\n",
    "Complete the function bootstrap scores below. It should take no arguments. It should simulate drawing 5000\n",
    "resamples from restaurant sample and compute the mean restaurant score in each resample. It should return an\n",
    "array of those 5000 resample means."
   ]
  },
  {
   "cell_type": "code",
   "execution_count": 9,
   "metadata": {},
   "outputs": [
    {
     "data": {
      "text/plain": [
       "array([89.52, 91.65, 92.58, ..., 91.01, 92.02, 91.83])"
      ]
     },
     "execution_count": 9,
     "metadata": {},
     "output_type": "execute_result"
    }
   ],
   "source": [
    "def bootstrap_scores():\n",
    "    resampled_means = make_array()\n",
    "    for i in range(5000):\n",
    "        resample = restaurant_sample.sample()\n",
    "        resampled_mean = np.mean(resample.column('Score'))\n",
    "        resampled_means = np.append(resampled_means,resampled_mean)\n",
    "    return resampled_means\n",
    "resampled_means = bootstrap_scores()\n",
    "resampled_means"
   ]
  },
  {
   "cell_type": "code",
   "execution_count": 10,
   "metadata": {},
   "outputs": [
    {
     "data": {
      "image/png": "[encoded data removed]",
      "text/plain": [
       "<Figure size 432x288 with 1 Axes>"
      ]
     },
     "metadata": {},
     "output_type": "display_data"
    }
   ],
   "source": [
    "Table().with_column('Resampled Means', resampled_means).hist()"
   ]
  },
  {
   "cell_type": "markdown",
   "metadata": {},
   "source": [
    "**1.3 Question 3**\n",
    "Compute a 95 percent conﬁdence interval for the average restaurant score using the array resampled means."
   ]
  },
  {
   "cell_type": "code",
   "execution_count": 11,
   "metadata": {},
   "outputs": [
    {
     "name": "stdout",
     "output_type": "stream",
     "text": [
      "95% confidence interval for the average restaurant score, computed by bootstrapping:\n",
      "( 90.18 , 93.44 )\n"
     ]
    }
   ],
   "source": [
    "lower_bound = percentile(2.5, resampled_means)\n",
    "upper_bound = percentile(97.5, resampled_means)\n",
    "print(\"95% confidence interval for the average restaurant score, computed by bootstrapping:\\n(\",lower_bound, \",\", upper_bound, \")\")"
   ]
  },
  {
   "cell_type": "markdown",
   "metadata": {},
   "source": [
    "**1.4 Question 4**\n",
    "What distribution is the histogram between question 2 and 3 displaying (that is, what data are plotted), and why does it have that shape"
   ]
  },
  {
   "cell_type": "markdown",
   "metadata": {},
   "source": [
    "**Explanation**\n",
    "The bootstrap distribution is the distribution of means from each resample. \n",
    "Our estimates are all the randomly generated sampled means whose histogram you see above.\n",
    "The empirical histogram is the result of random draws (bootstrapping)."
   ]
  },
  {
   "cell_type": "markdown",
   "metadata": {},
   "source": [
    "**1.5 Question 5**\n",
    "Does the distribution of the sampled scores look normally distributed? State “yes” or “no” and describe in one sentence why you should expect this result"
   ]
  },
  {
   "cell_type": "markdown",
   "metadata": {},
   "source": [
    "**Explanation**\n",
    "No.\n",
    "By the law of averages, the distribution of the original sample is likely to resemble the population.\n",
    "The histogram is positively skewed for sampled scores and not normaly distributed."
   ]
  },
  {
   "cell_type": "markdown",
   "metadata": {},
   "source": [
    "**1.6 Question 6**\n",
    "Without referencing the array resampled means or performing any new simulations, calculate an interval around the sample mean that covers approximately 95% of the numbers in the resampled means array. This conﬁdence interval should look very similar to the one you computed in Question 3"
   ]
  },
  {
   "cell_type": "code",
   "execution_count": 12,
   "metadata": {},
   "outputs": [
    {
     "name": "stdout",
     "output_type": "stream",
     "text": [
      "95% confidence interval for the average restaurant score, computed by a normal approximation:\n",
      "( 90.20196974502876 , 93.51803025497124 )\n"
     ]
    }
   ],
   "source": [
    "sample_mean = np.mean(restaurant_sample.column('Score'))\n",
    "sample_sd = np.std(restaurant_sample.column('Score'))\n",
    "sample_size = restaurant_sample.num_rows\n",
    "\n",
    "sd_of_means = np.std(resampled_means)\n",
    "lower_bound_normal = sample_mean - 1.96*(sample_sd / np.sqrt(sample_size))\n",
    "upper_bound_normal = sample_mean + 1.96*(sample_sd / np.sqrt(sample_size))\n",
    "print(\"95% confidence interval for the average restaurant score, computed by a normal approximation:\\n(\",lower_bound_normal, \",\", upper_bound_normal, \")\")"
   ]
  },
  {
   "cell_type": "markdown",
   "metadata": {},
   "source": [
    "**2 Testing the Central Limit Theorem**"
   ]
  },
  {
   "cell_type": "markdown",
   "metadata": {},
   "source": [
    "**2.1 Question 1**\n",
    "Deﬁne the function one statistic prop heads which should return exactly one simulated statistic of the proportion of heads from n coin ﬂips."
   ]
  },
  {
   "cell_type": "code",
   "execution_count": 13,
   "metadata": {},
   "outputs": [
    {
     "data": {
      "text/plain": [
       "array([0.55, 0.45])"
      ]
     },
     "execution_count": 13,
     "metadata": {},
     "output_type": "execute_result"
    }
   ],
   "source": [
    "coin_proportions = make_array(.5, .5) # our coin is fair\n",
    "\n",
    "def one_statistic_prop_heads(n):\n",
    "    simulated_proportions = sample_proportions(n, coin_proportions)\n",
    "    prop_heads = simulated_proportions\n",
    "\n",
    "    return prop_heads\n",
    "\n",
    "one_statistic_prop_heads(100)"
   ]
  },
  {
   "cell_type": "markdown",
   "metadata": {},
   "source": [
    "**2.2 Question 2**\n",
    "Write a function called sample size n that takes in a sample size n. It should return an array that contains 5000 sample proportions of heads, each from n coin ﬂips."
   ]
  },
  {
   "cell_type": "code",
   "execution_count": 14,
   "metadata": {},
   "outputs": [
    {
     "data": {
      "text/plain": [
       "array([0.58, 0.42, 0.46, ..., 0.44, 0.56, 0.44])"
      ]
     },
     "execution_count": 14,
     "metadata": {},
     "output_type": "execute_result"
    }
   ],
   "source": [
    "def sample_size_n(n):\n",
    "    coin_proportions = make_array(.5, .5) # our coin is fair\n",
    "    heads_proportions = make_array()\n",
    "    for i in np.arange(5000):\n",
    "        prop_heads = one_statistic_prop_heads(n)\n",
    "        heads_proportions = np.append(heads_proportions, prop_heads)\n",
    "    return heads_proportions\n",
    "\n",
    "sample_size_n(100)"
   ]
  },
  {
   "cell_type": "code",
   "execution_count": 15,
   "metadata": {},
   "outputs": [
    {
     "data": {
      "application/vnd.jupyter.widget-view+json": {
       "model_id": "a4cfd2c67e5b4b36a85c20f330a76300",
       "version_major": 2,
       "version_minor": 0
      },
      "text/plain": [
       "interactive(children=(IntSlider(value=200, description='x', max=400), Output()), _dom_classes=('widget-interac…"
      ]
     },
     "metadata": {},
     "output_type": "display_data"
    }
   ],
   "source": [
    "# Just run this cell\n",
    "\n",
    "from ipywidgets import interact\n",
    "\n",
    "def outer(f):\n",
    "    def graph(x):\n",
    "        bins = np.arange(-0.01,1.05,0.02)\n",
    "        sample_props = f(x)\n",
    "        Table().with_column('Sample Size: {}'.format(x), sample_props).hist(bins=bins)\n",
    "        plt.ylim(0, 30)\n",
    "        print('Sample SD:', np.std(sample_props))\n",
    "        plt.show()\n",
    "    return graph\n",
    "    \n",
    "interact(outer(sample_size_n), x=(0, 400, 1), continuous_update=False);\n",
    "\n",
    "# Min sample size is 0, max is 400\n",
    "# The graph will refresh a few times when you drag the slider around"
   ]
  },
  {
   "cell_type": "markdown",
   "metadata": {},
   "source": [
    "**2.3 Question 3**\n",
    "Write a function called empirical sample mean sd that takes a sample size n as its argument. The function should simulate 500 samples with replacement of size n from the ﬂight delays dataset, and it should return the standard deviation of the means of those 500 samples."
   ]
  },
  {
   "cell_type": "code",
   "execution_count": 16,
   "metadata": {},
   "outputs": [
    {
     "data": {
      "text/plain": [
       "39.480199851609314"
      ]
     },
     "execution_count": 16,
     "metadata": {},
     "output_type": "execute_result"
    }
   ],
   "source": [
    "united = Table.read_table('united_summer2015.csv')\n",
    "united_std = np.std(united.column('Delay'))\n",
    "united_std"
   ]
  },
  {
   "cell_type": "code",
   "execution_count": 17,
   "metadata": {},
   "outputs": [
    {
     "data": {
      "text/plain": [
       "12.090250305101215"
      ]
     },
     "execution_count": 17,
     "metadata": {},
     "output_type": "execute_result"
    }
   ],
   "source": [
    "def empirical_sample_mean_sd(n):\n",
    "    sample_means = make_array()\n",
    "    for i in np.arange(500):\n",
    "        sample = united.sample(n).column('Delay')\n",
    "        sample_mean = np.mean(sample)\n",
    "        sample_means = np.append(sample_means, sample_mean)\n",
    "    return np.std(sample_means)\n",
    "\n",
    "empirical_sample_mean_sd(10)"
   ]
  },
  {
   "cell_type": "markdown",
   "metadata": {},
   "source": [
    "**2.4 Question 4**\n",
    "Now, write a function called predict sample mean sd to ﬁnd the predicted value of the standard deviation of means according to the relationship between the standard deviation of the sample mean and sample size that is discussed in the textbook. It takes a sample size n (a number) as its argument. It returns the predicted value of the standard deviation of the mean delay time for samples of size n from the ﬂight delays (represented in the table united)."
   ]
  },
  {
   "cell_type": "code",
   "execution_count": 18,
   "metadata": {},
   "outputs": [
    {
     "data": {
      "text/plain": [
       "12.484735400972708"
      ]
     },
     "execution_count": 18,
     "metadata": {},
     "output_type": "execute_result"
    }
   ],
   "source": [
    "def predict_sample_mean_sd(n):\n",
    "    delay_std = np.std(united.column('Delay'))\n",
    "    return delay_std/np.sqrt(n)\n",
    "\n",
    "predict_sample_mean_sd(10)"
   ]
  },
  {
   "cell_type": "code",
   "execution_count": 19,
   "metadata": {},
   "outputs": [
    {
     "data": {
      "image/png": "[encoded data removed]",
      "text/plain": [
       "<Figure size 360x360 with 1 Axes>"
      ]
     },
     "metadata": {},
     "output_type": "display_data"
    }
   ],
   "source": [
    "sd_table = Table().with_column('Sample Size', np.arange(1,101))\n",
    "predicted = sd_table.apply(predict_sample_mean_sd, 'Sample Size')\n",
    "empirical = sd_table.apply(empirical_sample_mean_sd, 'Sample Size')\n",
    "sd_table = sd_table.with_columns('Predicted SD', predicted, 'Empirical SD', empirical)\n",
    "sd_table.scatter('Sample Size')"
   ]
  }
 ],
 "metadata": {
  "kernelspec": {
   "display_name": "Python 3",
   "language": "python",
   "name": "python3"
  },
  "language_info": {
   "codemirror_mode": {
    "name": "ipython",
    "version": 3
   },
   "file_extension": ".py",
   "mimetype": "text/x-python",
   "name": "python",
   "nbconvert_exporter": "python",
   "pygments_lexer": "ipython3",
   "version": "3.7.4"
  }
 },
 "nbformat": 4,
 "nbformat_minor": 2
}
