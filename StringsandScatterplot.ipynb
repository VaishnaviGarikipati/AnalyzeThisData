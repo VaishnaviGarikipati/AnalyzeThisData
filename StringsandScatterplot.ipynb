{
 "cells": [
  {
   "cell_type": "markdown",
   "metadata": {},
   "source": [
    "Write a Python program that can take different numbers of strings \n",
    "(each string may include digits, characters, and special symbols) and then sorted them. \n",
    "You need first define the rule for sorting and then implement the sorting function using Python \n",
    "(DO NOT use any existing sort function). \n",
    "Visualize a list of input strings (the list must include at least 500 strings) using a scatter plot \n",
    "(one dimension will be the length of each string, and the other dimension could be the order of the string in the list)."
   ]
  },
  {
   "cell_type": "markdown",
   "metadata": {},
   "source": [
    "test case1: alphabets and special characters combination"
   ]
  },
  {
   "cell_type": "code",
   "execution_count": 1,
   "metadata": {
    "scrolled": false
   },
   "outputs": [
    {
     "name": "stdout",
     "output_type": "stream",
     "text": [
      "enter your string: thbis is an apple\n",
      "Sorted list is: ['an', 'apple', 'is', 'thbis']\n",
      "[2, 5, 2, 5]\n",
      "[0, 1, 2, 3]\n"
     ]
    },
    {
     "data": {
      "text/plain": [
       "Text(0.5, 1.0, 'Visualizing a list of atleast 500 input strings')"
      ]
     },
     "execution_count": 1,
     "metadata": {},
     "output_type": "execute_result"
    }
   ],
   "source": [
    "myline=input(\"enter your string: \")\n",
    "mylist=myline.split()\n",
    "n = len(mylist)\n",
    "def sortlist(mylist):\n",
    "   for i in range(n):\n",
    "       for j in range(1, n-i):\n",
    "           if mylist[j-1] > mylist[j]:\n",
    "               (mylist[j-1], mylist[j]) = (mylist[j], mylist[j-1])\n",
    "   return mylist\n",
    "\n",
    "print(\"Sorted list is: \"+str(sortlist(mylist)))\n",
    "outputlist=sortlist(mylist)\n",
    "\n",
    "z=0\n",
    "y_dim=[]\n",
    "\n",
    "x_dim=[]\n",
    "for element in mylist:\n",
    "    x_dim.append(len(element)) #assigning length of each element of sorted list to n array x\n",
    "    y_dim.append(z)\n",
    "    z=z+1\n",
    "\n",
    "#for entry in mylist:\n",
    "  #  y_dim.append(mylist.index(entry)) #assigning order of each element of sorted list to n array y\n",
    "\n",
    "print(x_dim)\n",
    "print(y_dim)\n",
    "\n",
    "import numpy as np\n",
    "import matplotlib.mlab as mlab\n",
    "import matplotlib.pyplot as plt\n",
    "\n",
    "plt.scatter(x_dim, y_dim, s=5, c='green', edgecolor='black', linewidth=1, alpha=0.75)\n",
    "plt.xlabel(\"length of each string\",fontsize=13)\n",
    "plt.ylabel(\"order of string in input list\",fontsize=13)\n",
    "plt.title(\"Visualizing a list of atleast 500 input strings\")"
   ]
  },
  {
   "cell_type": "markdown",
   "metadata": {},
   "source": [
    "test case 2: only numbers"
   ]
  },
  {
   "cell_type": "code",
   "execution_count": 4,
   "metadata": {},
   "outputs": [
    {
     "name": "stdout",
     "output_type": "stream",
     "text": [
      "enter your string: this is an apple and that is banana. all are fruits and fresh\n",
      "Sorted list is: ['all', 'an', 'and', 'and', 'apple', 'are', 'banana.', 'fresh', 'fruits', 'is', 'is', 'that', 'this']\n",
      "[12, 1, 1, 1, 1, 1, 1, 1, 1, 1, 1, 1, 1, 1, 1, 3, 1, 1, 1, 4, 8, 9, 5, 4, 4, 2, 2, 4, 6, 8, 7, 3, 3, 3, 5, 5, 9, 9, 11, 11, 11, 2, 2, 5, 8, 7, 4, 4, 10, 10, 4, 13, 12, 8, 6, 4, 5, 7, 13, 11, 6, 6, 6, 6, 6, 6, 6, 6, 6, 6, 6, 6, 6, 6, 6, 6, 6, 6, 6, 6, 6, 6, 6, 6, 6, 6, 6, 8, 8, 8, 7, 6, 6, 10, 5, 4, 4, 5, 4, 5, 3, 6, 1, 3, 1, 1, 1, 1, 1, 1, 1, 1, 1, 1, 1, 4, 12, 10, 8, 3, 3, 8, 3, 3, 3, 8, 14, 2, 2, 2, 2, 3, 3, 3, 3, 3, 3, 3, 3, 3, 3, 3, 3, 3, 3, 3, 3, 3, 3, 3, 3, 3, 3, 11, 12, 8, 3, 2, 2, 2, 2, 2, 2, 9, 5, 2, 2, 2, 2, 2, 2, 2, 2, 6, 10, 5, 5, 8, 9, 4, 2, 2, 9, 6, 3, 3, 3, 3, 12, 13, 11, 16, 4, 4, 4, 4, 5, 13, 10, 8, 12, 7, 12, 4, 5, 7, 13, 9, 9, 10, 9, 7, 5, 7, 9, 8, 12, 6, 6, 9, 9, 9, 10, 9, 2, 4, 7, 7, 7, 5, 4, 4, 13, 10, 12, 9, 10, 5, 16, 17, 9, 10, 9, 9, 5, 3, 3, 5, 3, 3, 3, 3, 3, 4, 4, 4, 10, 9, 10, 8, 6, 4, 5, 5, 15, 15, 3, 8, 3, 3, 3, 3, 3, 4, 5, 5, 5, 6, 5, 4, 4, 9, 11, 11, 2, 2, 2, 2, 7, 7, 8, 10, 6, 6, 10, 8, 11, 11, 11, 9, 10, 12, 11, 12, 12, 2, 2, 2, 2, 2, 2, 2, 2, 2, 2, 2, 2, 2, 2, 2, 2, 2, 3, 15, 13, 3, 3, 8, 4, 8, 8, 8, 8, 8, 9, 9, 10, 10, 10, 5, 4, 4, 9, 7, 7, 4, 6, 6, 10, 10, 4, 4, 7, 7, 11, 3, 3, 4, 7, 7, 4, 4, 8, 4, 2, 11, 3, 3, 15, 2, 2, 2, 2, 2, 2, 2, 2, 2, 2, 3, 6, 2, 2, 2, 2, 2, 2, 2, 2, 5, 3, 7, 8, 8, 9, 9, 2, 6, 8, 10, 8, 8, 6, 11, 9, 9, 10, 11, 11, 11, 11, 12, 9, 10, 9, 8, 4, 7, 3, 7, 8, 7, 9, 9, 9, 9, 10, 4, 4, 6, 5, 6, 5, 5, 7, 15, 14, 8, 5, 6, 5, 7, 8, 10, 10, 11, 5, 6, 8, 8, 8, 11, 7, 4, 4, 10, 13, 7, 4, 4, 4, 4, 4, 3, 3, 3, 3, 3, 3, 3, 3, 3, 3, 3, 3, 3, 3, 3, 3, 3, 5, 5, 7, 2, 2, 2, 2, 2, 2, 2, 2, 2, 2, 2, 2, 2, 2, 2, 2, 2, 8, 6, 4, 10, 2, 3, 4, 4, 3, 3, 7, 4, 4, 3, 5, 9, 5, 4, 10, 5, 5, 5, 5, 7, 7, 8, 4, 4, 6, 7, 7, 5, 3, 3, 4, 4]\n",
      "[0, 1, 1, 1, 1, 1, 1, 1, 1, 1, 1, 1, 1, 1, 1, 15, 16, 17, 18, 19, 20, 21, 22, 23, 23, 25, 25, 27, 28, 29, 30, 31, 32, 32, 34, 34, 36, 37, 38, 38, 40, 41, 41, 43, 44, 45, 46, 47, 48, 49, 50, 51, 52, 53, 54, 55, 56, 57, 58, 59, 60, 61, 61, 61, 61, 61, 61, 61, 61, 61, 61, 61, 61, 61, 61, 61, 61, 61, 61, 61, 61, 61, 61, 61, 61, 61, 61, 87, 87, 87, 90, 91, 91, 93, 94, 95, 95, 97, 98, 99, 100, 101, 102, 103, 104, 104, 104, 104, 104, 104, 104, 104, 104, 104, 104, 115, 116, 117, 118, 119, 119, 121, 122, 123, 123, 125, 126, 127, 127, 127, 127, 131, 131, 131, 131, 131, 131, 131, 131, 131, 131, 131, 131, 131, 131, 131, 131, 131, 131, 131, 131, 131, 131, 153, 154, 155, 156, 157, 157, 157, 157, 161, 161, 163, 164, 165, 165, 165, 165, 165, 165, 165, 165, 173, 174, 175, 176, 177, 178, 179, 180, 180, 182, 183, 184, 184, 184, 184, 188, 189, 190, 191, 192, 192, 192, 192, 196, 197, 198, 199, 200, 201, 202, 203, 204, 205, 206, 207, 208, 209, 210, 211, 212, 213, 214, 215, 216, 217, 217, 219, 219, 219, 222, 223, 224, 225, 226, 226, 228, 229, 230, 230, 232, 233, 234, 235, 236, 237, 238, 239, 240, 241, 242, 242, 244, 245, 245, 247, 248, 248, 248, 248, 248, 253, 253, 253, 256, 257, 258, 259, 260, 261, 262, 262, 264, 264, 266, 267, 268, 268, 268, 268, 268, 273, 274, 274, 274, 277, 278, 279, 280, 281, 282, 282, 284, 284, 284, 284, 288, 288, 290, 291, 292, 292, 294, 295, 296, 296, 296, 299, 300, 301, 302, 303, 303, 305, 305, 305, 305, 305, 305, 305, 305, 305, 305, 305, 305, 305, 305, 305, 305, 321, 322, 323, 324, 325, 326, 327, 328, 329, 330, 330, 330, 330, 334, 335, 336, 337, 337, 339, 340, 340, 342, 343, 343, 345, 346, 347, 348, 349, 350, 350, 352, 352, 354, 355, 355, 357, 358, 358, 360, 360, 362, 363, 364, 365, 366, 366, 368, 369, 369, 369, 369, 369, 369, 369, 369, 369, 369, 379, 380, 381, 381, 381, 381, 381, 386, 386, 386, 389, 390, 391, 392, 392, 394, 394, 396, 397, 398, 399, 400, 400, 402, 403, 404, 405, 406, 407, 407, 409, 409, 411, 412, 413, 414, 415, 416, 417, 418, 419, 420, 421, 422, 422, 422, 422, 426, 427, 428, 429, 430, 431, 432, 432, 434, 435, 436, 437, 438, 439, 440, 441, 442, 443, 444, 445, 446, 447, 448, 448, 448, 451, 452, 453, 454, 455, 456, 457, 458, 458, 458, 461, 461, 463, 463, 463, 463, 463, 463, 463, 463, 463, 463, 463, 463, 463, 463, 463, 463, 463, 480, 481, 482, 483, 483, 483, 483, 483, 483, 483, 483, 483, 483, 483, 483, 483, 483, 483, 483, 483, 500, 501, 502, 503, 504, 505, 506, 507, 508, 508, 510, 511, 511, 513, 514, 515, 516, 517, 518, 519, 519, 519, 519, 523, 523, 525, 526, 526, 528, 529, 529, 531, 532, 532, 534, 534]\n"
     ]
    },
    {
     "data": {
      "text/plain": [
       "Text(0.5, 1.0, 'Visualizing a list of atleast 500 input strings')"
      ]
     },
     "execution_count": 4,
     "metadata": {},
     "output_type": "execute_result"
    },
    {
     "data": {
      "image/png": "[encoded data removed]",
      "text/plain": [
       "<Figure size 432x288 with 1 Axes>"
      ]
     },
     "metadata": {
      "needs_background": "light"
     },
     "output_type": "display_data"
    }
   ],
   "source": [
    "myline=input(\"enter your string: \")\n",
    "mylist=myline.split()\n",
    "n = len(mylist)\n",
    "def sortlist(mylist):\n",
    "   for i in range(n):\n",
    "       for j in range(1, n-i):\n",
    "           if mylist[j-1] > mylist[j]:\n",
    "               (mylist[j-1], mylist[j]) = (mylist[j], mylist[j-1])\n",
    "   return mylist\n",
    "\n",
    "print(\"Sorted list is: \"+str(sortlist(mylist)))\n",
    "outputlist=sortlist(mylist)\n",
    "print(x_dim)\n",
    "print(y_dim)\n",
    "\n",
    "import numpy as np\n",
    "import matplotlib.mlab as mlab\n",
    "import matplotlib.pyplot as plt\n",
    "\n",
    "x_dim=[]\n",
    "for item in mylist:\n",
    "    x_dim.append(len(item)) #assigning length of each element of sorted list to n array x\n",
    "\n",
    "y_dim=[]\n",
    "for item in mylist:\n",
    "    y_dim.append(mylist.index(item)) #assigning order of each element of sorted list to n array y\n",
    "\n",
    "plt.scatter(x_dim, y_dim, s=5, c='green', edgecolor='black', linewidth=1, alpha=0.75)\n",
    "plt.xlabel(\"length of each string\",fontsize=13)\n",
    "plt.ylabel(\"order of string in input list\",fontsize=13)\n",
    "plt.title(\"Visualizing a list of atleast 500 input strings\")"
   ]
  },
  {
   "cell_type": "code",
   "execution_count": 1,
   "metadata": {},
   "outputs": [
    {
     "name": "stdout",
     "output_type": "stream",
     "text": [
      "enter your string: this is an apple\n",
      "Sorted list is: ['an', 'apple', 'is', 'this']\n",
      "[2, 5, 2, 4]\n",
      "[0, 1, 2, 3]\n"
     ]
    },
    {
     "data": {
      "text/plain": [
       "<Figure size 640x480 with 1 Axes>"
      ]
     },
     "metadata": {},
     "output_type": "display_data"
    }
   ],
   "source": [
    "myline=input(\"enter your string: \")\n",
    "mylist=myline.split()\n",
    "n = len(mylist)\n",
    "def sortlist(mylist):\n",
    "   for i in range(n):\n",
    "       for j in range(1, n-i):\n",
    "           if mylist[j-1] > mylist[j]:\n",
    "               (mylist[j-1], mylist[j]) = (mylist[j], mylist[j-1])\n",
    "   return mylist\n",
    "\n",
    "print(\"Sorted list is: \"+str(sortlist(mylist)))\n",
    "outputlist=sortlist(mylist)\n",
    "\n",
    "x_dim=[]\n",
    "for element in mylist:\n",
    "    x_dim.append(len(element)) #assigning length of each element of sorted list to n array x\n",
    "\n",
    "y_dim=[]\n",
    "for entry in mylist:\n",
    "    y_dim.append(mylist.index(entry)) #assigning order of each element of sorted list to n array y\n",
    "\n",
    "print(x_dim)\n",
    "print(y_dim)\n",
    "\n",
    "import numpy as np\n",
    "import matplotlib.mlab as mlab\n",
    "import matplotlib.pyplot as plt\n",
    "\n",
    "plt.scatter(x_dim, y_dim, s=5, c='green', edgecolor='black', linewidth=1, alpha=0.75)\n",
    "plt.xlabel(\"length of each string\",fontsize=13)\n",
    "plt.ylabel(\"order of string in input list\",fontsize=13)\n",
    "plt.title(\"Visualizing a list of atleast 500 input strings\")\n",
    "plt.show()"
   ]
  },
  {
   "cell_type": "code",
   "execution_count": null,
   "metadata": {},
   "outputs": [],
   "source": []
  },
  {
   "cell_type": "code",
   "execution_count": null,
   "metadata": {},
   "outputs": [],
   "source": []
  },
  {
   "cell_type": "code",
   "execution_count": null,
   "metadata": {},
   "outputs": [],
   "source": []
  }
 ],
 "metadata": {
  "kernelspec": {
   "display_name": "Python 3",
   "language": "python",
   "name": "python3"
  },
  "language_info": {
   "codemirror_mode": {
    "name": "ipython",
    "version": 3
   },
   "file_extension": ".py",
   "mimetype": "text/x-python",
   "name": "python",
   "nbconvert_exporter": "python",
   "pygments_lexer": "ipython3",
   "version": "3.7.4"
  }
 },
 "nbformat": 4,
 "nbformat_minor": 2
}
